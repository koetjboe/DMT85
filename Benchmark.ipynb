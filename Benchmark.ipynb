{
 "cells": [
  {
   "cell_type": "code",
   "execution_count": 8,
   "id": "e716b752",
   "metadata": {},
   "outputs": [],
   "source": [
    "import pandas as pd\n",
    "import numpy as np\n",
    "import datetime\n",
    "from sklearn import metrics"
   ]
  },
  {
   "cell_type": "code",
   "execution_count": 9,
   "id": "d51042c2",
   "metadata": {},
   "outputs": [
    {
     "data": {
      "text/html": [
       "<div>\n",
       "<style scoped>\n",
       "    .dataframe tbody tr th:only-of-type {\n",
       "        vertical-align: middle;\n",
       "    }\n",
       "\n",
       "    .dataframe tbody tr th {\n",
       "        vertical-align: top;\n",
       "    }\n",
       "\n",
       "    .dataframe thead th {\n",
       "        text-align: right;\n",
       "    }\n",
       "</style>\n",
       "<table border=\"1\" class=\"dataframe\">\n",
       "  <thead>\n",
       "    <tr style=\"text-align: right;\">\n",
       "      <th></th>\n",
       "      <th>id</th>\n",
       "      <th>time</th>\n",
       "      <th>variable</th>\n",
       "      <th>value</th>\n",
       "    </tr>\n",
       "  </thead>\n",
       "  <tbody>\n",
       "    <tr>\n",
       "      <th>1</th>\n",
       "      <td>AS14.01</td>\n",
       "      <td>2014-02-26 13:00:00.000</td>\n",
       "      <td>mood</td>\n",
       "      <td>6.000</td>\n",
       "    </tr>\n",
       "    <tr>\n",
       "      <th>2</th>\n",
       "      <td>AS14.01</td>\n",
       "      <td>2014-02-26 15:00:00.000</td>\n",
       "      <td>mood</td>\n",
       "      <td>6.000</td>\n",
       "    </tr>\n",
       "    <tr>\n",
       "      <th>3</th>\n",
       "      <td>AS14.01</td>\n",
       "      <td>2014-02-26 18:00:00.000</td>\n",
       "      <td>mood</td>\n",
       "      <td>6.000</td>\n",
       "    </tr>\n",
       "    <tr>\n",
       "      <th>4</th>\n",
       "      <td>AS14.01</td>\n",
       "      <td>2014-02-26 21:00:00.000</td>\n",
       "      <td>mood</td>\n",
       "      <td>7.000</td>\n",
       "    </tr>\n",
       "    <tr>\n",
       "      <th>5</th>\n",
       "      <td>AS14.01</td>\n",
       "      <td>2014-02-27 09:00:00.000</td>\n",
       "      <td>mood</td>\n",
       "      <td>6.000</td>\n",
       "    </tr>\n",
       "    <tr>\n",
       "      <th>...</th>\n",
       "      <td>...</td>\n",
       "      <td>...</td>\n",
       "      <td>...</td>\n",
       "      <td>...</td>\n",
       "    </tr>\n",
       "    <tr>\n",
       "      <th>2770399</th>\n",
       "      <td>AS14.30</td>\n",
       "      <td>2014-04-11 07:51:16.948</td>\n",
       "      <td>appCat.weather</td>\n",
       "      <td>8.032</td>\n",
       "    </tr>\n",
       "    <tr>\n",
       "      <th>2772465</th>\n",
       "      <td>AS14.30</td>\n",
       "      <td>2014-04-19 11:00:32.747</td>\n",
       "      <td>appCat.weather</td>\n",
       "      <td>3.008</td>\n",
       "    </tr>\n",
       "    <tr>\n",
       "      <th>2774026</th>\n",
       "      <td>AS14.30</td>\n",
       "      <td>2014-04-26 10:19:07.434</td>\n",
       "      <td>appCat.weather</td>\n",
       "      <td>7.026</td>\n",
       "    </tr>\n",
       "    <tr>\n",
       "      <th>2774133</th>\n",
       "      <td>AS14.30</td>\n",
       "      <td>2014-04-27 00:44:48.450</td>\n",
       "      <td>appCat.weather</td>\n",
       "      <td>23.033</td>\n",
       "    </tr>\n",
       "    <tr>\n",
       "      <th>2784435</th>\n",
       "      <td>AS14.32</td>\n",
       "      <td>2014-04-07 18:25:14.036</td>\n",
       "      <td>appCat.weather</td>\n",
       "      <td>22.431</td>\n",
       "    </tr>\n",
       "  </tbody>\n",
       "</table>\n",
       "<p>376912 rows × 4 columns</p>\n",
       "</div>"
      ],
      "text/plain": [
       "              id                     time        variable   value\n",
       "1        AS14.01  2014-02-26 13:00:00.000            mood   6.000\n",
       "2        AS14.01  2014-02-26 15:00:00.000            mood   6.000\n",
       "3        AS14.01  2014-02-26 18:00:00.000            mood   6.000\n",
       "4        AS14.01  2014-02-26 21:00:00.000            mood   7.000\n",
       "5        AS14.01  2014-02-27 09:00:00.000            mood   6.000\n",
       "...          ...                      ...             ...     ...\n",
       "2770399  AS14.30  2014-04-11 07:51:16.948  appCat.weather   8.032\n",
       "2772465  AS14.30  2014-04-19 11:00:32.747  appCat.weather   3.008\n",
       "2774026  AS14.30  2014-04-26 10:19:07.434  appCat.weather   7.026\n",
       "2774133  AS14.30  2014-04-27 00:44:48.450  appCat.weather  23.033\n",
       "2784435  AS14.32  2014-04-07 18:25:14.036  appCat.weather  22.431\n",
       "\n",
       "[376912 rows x 4 columns]"
      ]
     },
     "execution_count": 9,
     "metadata": {},
     "output_type": "execute_result"
    }
   ],
   "source": [
    "# import dataset\n",
    "df = pd.read_csv('dataset_mood_smartphone.csv', index_col=0)\n",
    "df"
   ]
  },
  {
   "cell_type": "markdown",
   "id": "e728eb21",
   "metadata": {},
   "source": [
    "# Get Y_true-values"
   ]
  },
  {
   "cell_type": "code",
   "execution_count": 23,
   "id": "c3584a56",
   "metadata": {},
   "outputs": [
    {
     "data": {
      "text/plain": [
       "id\n",
       "AS14.01    7.0\n",
       "AS14.02    7.0\n",
       "AS14.03    8.0\n",
       "AS14.05    8.0\n",
       "AS14.06    8.0\n",
       "AS14.07    6.0\n",
       "AS14.08    5.0\n",
       "AS14.09    7.0\n",
       "AS14.12    7.0\n",
       "AS14.13    3.0\n",
       "AS14.14    6.0\n",
       "AS14.15    6.0\n",
       "AS14.16    7.0\n",
       "AS14.17    7.0\n",
       "AS14.19    6.0\n",
       "AS14.20    7.0\n",
       "AS14.23    7.0\n",
       "AS14.24    8.0\n",
       "AS14.25    6.0\n",
       "AS14.26    8.0\n",
       "AS14.27    9.0\n",
       "AS14.28    5.0\n",
       "AS14.29    9.0\n",
       "AS14.30    8.0\n",
       "AS14.31    7.0\n",
       "AS14.32    7.0\n",
       "AS14.33    9.0\n",
       "Name: value, dtype: float64"
      ]
     },
     "execution_count": 23,
     "metadata": {},
     "output_type": "execute_result"
    }
   ],
   "source": [
    "# check which date has the second to most entries, date after that will be the date to predict for\n",
    "# second to most date with most entries does not have all users\n",
    "df['date'] = pd.to_datetime(df['time']).dt.date\n",
    "max_entries = df.groupby('date')['time'].count().sort_values().index[-2]\n",
    "df_ydate = df[df['date'] == max_entries  + datetime.timedelta(days=1)]\n",
    "\n",
    "# set y_true to the last entry of mood for every user on that date\n",
    "y_true = df_ydate[df_ydate['variable'] == 'mood'].sort_values('time').groupby('id').last()['value']\n",
    "y_true"
   ]
  },
  {
   "cell_type": "markdown",
   "id": "d038ecbf",
   "metadata": {},
   "source": [
    "# Get Y_pred-values"
   ]
  },
  {
   "cell_type": "code",
   "execution_count": 24,
   "id": "e312fc1f",
   "metadata": {},
   "outputs": [
    {
     "data": {
      "text/plain": [
       "id\n",
       "AS14.01    7.0\n",
       "AS14.02    8.0\n",
       "AS14.03    7.0\n",
       "AS14.05    7.0\n",
       "AS14.06    8.0\n",
       "AS14.07    5.0\n",
       "AS14.08    6.0\n",
       "AS14.09    8.0\n",
       "AS14.12    7.0\n",
       "AS14.13    6.0\n",
       "AS14.14    6.0\n",
       "AS14.15    6.0\n",
       "AS14.16    7.0\n",
       "AS14.17    7.0\n",
       "AS14.19    6.0\n",
       "AS14.20    8.0\n",
       "AS14.23    7.0\n",
       "AS14.24    7.0\n",
       "AS14.25    7.0\n",
       "AS14.26    7.0\n",
       "AS14.27    7.0\n",
       "AS14.28    7.0\n",
       "AS14.29    8.0\n",
       "AS14.30    7.0\n",
       "AS14.31    7.0\n",
       "AS14.32    9.0\n",
       "AS14.33    8.0\n",
       "Name: value, dtype: float64"
      ]
     },
     "execution_count": 24,
     "metadata": {},
     "output_type": "execute_result"
    }
   ],
   "source": [
    "# date of x is the day before date of y\n",
    "xdate = max_entries\n",
    "df_xdate = df[df['date'] == xdate]\n",
    "\n",
    "# set y_pred to the last entry of mood for every user on that date\n",
    "y_pred = df_xdate[df_xdate['variable'] == 'mood'].sort_values('time').groupby('id').last()['value']\n",
    "y_pred"
   ]
  },
  {
   "cell_type": "code",
   "execution_count": 25,
   "id": "296de744",
   "metadata": {},
   "outputs": [
    {
     "name": "stdout",
     "output_type": "stream",
     "text": [
      "Y_true and Y_pred have the same and correct length (27): True\n",
      "MSE = 1.2592592592592593, RMSE = 1.1221672153735642, R2 = 0.2760252365930599\n"
     ]
    }
   ],
   "source": [
    "# check if all users are present on both dates\n",
    "num_users = len(df[\"id\"].unique())\n",
    "print(f'Y_true and Y_pred have the same and correct length ({num_users}): {len(y_true) == len(y_pred) == num_users}')\n",
    "\n",
    "# calculate regression metrics\n",
    "mse = sklearn.metrics.mean_squared_error(y_true, y_pred, squared=True)\n",
    "rmse = sklearn.metrics.mean_squared_error(y_true, y_pred, squared=False)\n",
    "r2 = sklearn.metrics.r2_score(y_true, y_pred)\n",
    "\n",
    "print(f'MSE = {mse}, RMSE = {rmse}, R2 = {r2}')"
   ]
  },
  {
   "cell_type": "code",
   "execution_count": null,
   "id": "665658bb",
   "metadata": {},
   "outputs": [],
   "source": []
  }
 ],
 "metadata": {
  "kernelspec": {
   "display_name": "Python 3 (ipykernel)",
   "language": "python",
   "name": "python3"
  },
  "language_info": {
   "codemirror_mode": {
    "name": "ipython",
    "version": 3
   },
   "file_extension": ".py",
   "mimetype": "text/x-python",
   "name": "python",
   "nbconvert_exporter": "python",
   "pygments_lexer": "ipython3",
   "version": "3.9.7"
  }
 },
 "nbformat": 4,
 "nbformat_minor": 5
}
