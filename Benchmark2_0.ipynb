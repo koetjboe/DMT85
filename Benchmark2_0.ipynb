{
 "cells": [
  {
   "cell_type": "code",
   "execution_count": 2,
   "id": "504dcabc",
   "metadata": {},
   "outputs": [],
   "source": [
    "import pandas as pd\n",
    "import numpy as np\n",
    "import datetime\n",
    "from sklearn.model_selection import train_test_split\n",
    "from sklearn.linear_model import LinearRegression\n",
    "from sklearn.linear_model import LogisticRegression\n",
    "from sklearn import metrics\n",
    "from keras.models import Sequential\n",
    "from keras.layers import Dense\n",
    "from keras.layers import LSTM\n",
    "from keras.layers import Dropout\n",
    "import seaborn as sns\n",
    "\n",
    "\n",
    "# to be able to use .head(100) to see more rows of df\n",
    "pd.set_option(\"display.max_rows\", 100, \"display.max_columns\", None)\n",
    "pd.set_option('use_inf_as_na', True)"
   ]
  },
  {
   "cell_type": "code",
   "execution_count": 3,
   "id": "53ec1deb",
   "metadata": {},
   "outputs": [],
   "source": [
    "# read the data\n",
    "df = pd.read_csv('dataset_mood_smartphone.csv', index_col=0)\n",
    "\n",
    "# get dates from timestamp\n",
    "df['time']= pd.to_datetime(df['time'])\n",
    "df['date'] = df['time'].dt.date"
   ]
  },
  {
   "cell_type": "markdown",
   "id": "7ca8ce02",
   "metadata": {},
   "source": [
    "# Feature Engineering setup"
   ]
  },
  {
   "cell_type": "code",
   "execution_count": 4,
   "id": "efe0b86f",
   "metadata": {},
   "outputs": [],
   "source": [
    "# turn 'variable' into separate columns, taking sum of values per day per user\n",
    "df_sum = df.groupby(['id', 'date', 'variable'])['value'].sum().unstack()\n",
    "\n",
    "# turn 'variable' into separate columns, taking mean of values per day per user\n",
    "df_mean = df.groupby(['id', 'date', 'variable'])['value'].mean().unstack()"
   ]
  },
  {
   "cell_type": "code",
   "execution_count": 5,
   "id": "c6d849bb",
   "metadata": {},
   "outputs": [],
   "source": [
    "# combine mean of score values and sum of time values into one dataframe\n",
    "df_combi = df_sum\n",
    "df_combi['mood'] = df_mean['mood']\n",
    "df_combi['circumplex.arousal'] = df_mean['circumplex.arousal']\n",
    "df_combi['circumplex.valence'] = df_mean['circumplex.valence']\n",
    "df_combi['activity'] = df_mean['activity']\n",
    "df_combi.columns.name = None"
   ]
  },
  {
   "cell_type": "code",
   "execution_count": 6,
   "id": "0c67dab2",
   "metadata": {},
   "outputs": [],
   "source": [
    "df_rolled = df_combi.dropna(subset=['mood','screen'], how='all')\n",
    "df_rolled = df_rolled.reset_index(level='id')\n",
    "df_rolled = df_rolled.reset_index(level='date')"
   ]
  },
  {
   "cell_type": "code",
   "execution_count": 7,
   "id": "fd839d31",
   "metadata": {},
   "outputs": [],
   "source": [
    "df_sub = df_rolled.dropna(subset=['mood'], how='all')\n",
    "df_sub = df_sub.replace([np.inf, -np.inf],0)\n",
    "df_sub = df_sub.fillna(0)"
   ]
  },
  {
   "cell_type": "code",
   "execution_count": 8,
   "id": "cfdf1a84",
   "metadata": {},
   "outputs": [],
   "source": [
    "df_sub['benchmark'] =  df_sub['mood'].shift().where(df_sub.id.eq(df_sub.id.shift()))"
   ]
  },
  {
   "cell_type": "code",
   "execution_count": 9,
   "id": "a9c2ac83",
   "metadata": {},
   "outputs": [],
   "source": [
    "df_sub.loc[0, 'benchmark'] = df_sub.loc[0, 'mood']"
   ]
  },
  {
   "cell_type": "markdown",
   "id": "de9419b8",
   "metadata": {},
   "source": [
    "# Models"
   ]
  },
  {
   "cell_type": "code",
   "execution_count": 30,
   "id": "81645908",
   "metadata": {},
   "outputs": [],
   "source": [
    "X_train_all = pd.DataFrame()\n",
    "X_test_all = pd.DataFrame()\n",
    "X_val_all = pd.DataFrame()\n",
    "y_train_all = pd.DataFrame()\n",
    "y_test_all = pd.DataFrame()\n",
    "y_val_all = pd.DataFrame()\n",
    "\n",
    "X_test_user = pd.DataFrame()\n",
    "y_test_user = pd.DataFrame()\n",
    "\n",
    "for i in df.id.unique():\n",
    "    dfid = df_sub[df_sub['id'] == i]\n",
    "    \n",
    "#     y = dfid['mood']\n",
    "    y = dfid[['id', 'mood']]\n",
    "    \n",
    "#     X = dfid['benchmark']\n",
    "    X = dfid[['id', 'benchmark']]\n",
    "    \n",
    "    len_1 = int(len(X) * 0.8)\n",
    "    len_11 = len(X) - len_1\n",
    "    \n",
    "    X_train_sub = X.head(len_1)\n",
    "    X_test = X.tail(len_11)['benchmark']\n",
    "    \n",
    "    y_train_sub = y.head(len_1)\n",
    "    y_test = y.tail(len_11)['mood']\n",
    "    \n",
    "    len_2 = int(len(X_train_sub)* 0.8)\n",
    "    len_22 = len(X_train_sub) - len_2 \n",
    "    \n",
    "    X_train = X_train_sub.head(len_2)['benchmark']\n",
    "    X_val = X_train_sub.tail(len_22)['benchmark']\n",
    "    \n",
    "    y_train = y_train_sub.head(len_2)['mood']\n",
    "    y_val = y_train_sub.tail(len_22)['mood']\n",
    "    \n",
    "    X_user = X.tail(len_11)\n",
    "    y_user = y.tail(len_11)\n",
    "\n",
    "\n",
    "    X_train_all = pd.concat([X_train_all, X_train])\n",
    "    X_test_all = pd.concat([X_test_all, X_test])\n",
    "    X_val_all= pd.concat([X_val_all,X_val])\n",
    "    y_train_all= pd.concat([y_train_all,y_train])\n",
    "    y_test_all = pd.concat([y_test_all,y_test])\n",
    "    y_val_all = pd.concat([y_val_all,y_val])\n",
    "    X_test_user = pd.concat([X_test_user, X_user])\n",
    "    y_test_user = pd.concat([y_test_user, y_user])"
   ]
  },
  {
   "cell_type": "code",
   "execution_count": 31,
   "id": "3e63e6dc",
   "metadata": {},
   "outputs": [
    {
     "data": {
      "text/plain": [
       "(790, 266, 212)"
      ]
     },
     "execution_count": 31,
     "metadata": {},
     "output_type": "execute_result"
    }
   ],
   "source": [
    " len(X_train_all), len(X_test_all), len(X_val_all)"
   ]
  },
  {
   "cell_type": "code",
   "execution_count": 32,
   "id": "1dc4a7e1",
   "metadata": {},
   "outputs": [
    {
     "data": {
      "text/plain": [
       "(790, 266, 212)"
      ]
     },
     "execution_count": 32,
     "metadata": {},
     "output_type": "execute_result"
    }
   ],
   "source": [
    "len(y_train_all),len( y_test_all ), len( y_val_all )"
   ]
  },
  {
   "cell_type": "markdown",
   "id": "f586ca59",
   "metadata": {},
   "source": [
    "### Benchmark Model"
   ]
  },
  {
   "cell_type": "code",
   "execution_count": 35,
   "id": "efc857cd",
   "metadata": {},
   "outputs": [
    {
     "name": "stdout",
     "output_type": "stream",
     "text": [
      "MSE = 0.4863982873851294, RMSE = 0.6974226031504351, R2 = 0.1373223261339751, accuracy = -\n"
     ]
    }
   ],
   "source": [
    "\n",
    "\n",
    "bench_mse = metrics.mean_squared_error(X_test_all, y_test_all, squared=True)\n",
    "bench_rmse = metrics.mean_squared_error(X_test_all, y_test_all, squared=False)\n",
    "bench_r2 = metrics.r2_score(X_test_all, y_test_all)\n",
    "bench_acc = '-'\n",
    "\n",
    "print(f'MSE = {bench_mse}, RMSE = {bench_rmse}, R2 = {bench_r2}, accuracy = {bench_acc}')\n",
    "bench_scores = {'model': 'Benchmark', 'MSE':bench_mse, 'RMSE':bench_rmse, 'R2':bench_r2, 'accuracy':bench_acc}"
   ]
  },
  {
   "cell_type": "code",
   "execution_count": 36,
   "id": "c42d8b7b",
   "metadata": {},
   "outputs": [
    {
     "data": {
      "text/html": [
       "<div>\n",
       "<style scoped>\n",
       "    .dataframe tbody tr th:only-of-type {\n",
       "        vertical-align: middle;\n",
       "    }\n",
       "\n",
       "    .dataframe tbody tr th {\n",
       "        vertical-align: top;\n",
       "    }\n",
       "\n",
       "    .dataframe thead th {\n",
       "        text-align: right;\n",
       "    }\n",
       "</style>\n",
       "<table border=\"1\" class=\"dataframe\">\n",
       "  <thead>\n",
       "    <tr style=\"text-align: right;\">\n",
       "      <th></th>\n",
       "      <th>MSE</th>\n",
       "      <th>RMSE</th>\n",
       "      <th>R2</th>\n",
       "      <th>accuracy</th>\n",
       "    </tr>\n",
       "  </thead>\n",
       "  <tbody>\n",
       "    <tr>\n",
       "      <th>Benchmark</th>\n",
       "      <td>0.486398</td>\n",
       "      <td>0.697423</td>\n",
       "      <td>0.137322</td>\n",
       "      <td>-</td>\n",
       "    </tr>\n",
       "  </tbody>\n",
       "</table>\n",
       "</div>"
      ],
      "text/plain": [
       "                MSE      RMSE        R2 accuracy\n",
       "Benchmark  0.486398  0.697423  0.137322        -"
      ]
     },
     "execution_count": 36,
     "metadata": {},
     "output_type": "execute_result"
    }
   ],
   "source": [
    "scores = [bench_scores]\n",
    "df_scores = pd.DataFrame(scores).set_index('model')\n",
    "df_scores.index.name = None\n",
    "df_scores"
   ]
  },
  {
   "cell_type": "code",
   "execution_count": 42,
   "id": "ea0228c9",
   "metadata": {},
   "outputs": [
    {
     "data": {
      "text/plain": [
       "{'mae': [0.33999999999999986,\n",
       "  0.6666666666666667,\n",
       "  0.27666666666666667,\n",
       "  0.3060606060606061,\n",
       "  0.7055555555555555,\n",
       "  1.1733333333333333,\n",
       "  0.3666666666666668,\n",
       "  0.575,\n",
       "  0.5888888888888888,\n",
       "  0.5181818181818184,\n",
       "  0.40740740740740744,\n",
       "  0.29090909090909095,\n",
       "  0.7893939393939394,\n",
       "  0.4583333333333333,\n",
       "  0.5783333333333335,\n",
       "  0.24666666666666667,\n",
       "  0.5999999999999998,\n",
       "  0.5272727272727273,\n",
       "  0.3777777777777776,\n",
       "  0.6714285714285714,\n",
       "  0.5703703703703702,\n",
       "  0.45416666666666683,\n",
       "  0.5185185185185184,\n",
       "  0.16999999999999993,\n",
       "  0.12962962962962957,\n",
       "  0.7666666666666665,\n",
       "  0.672222222222222],\n",
       " 'rmse': [0.41231056256176596,\n",
       "  0.926296222251837,\n",
       "  0.3148191720831358,\n",
       "  0.35795434503762225,\n",
       "  0.7987837977547839,\n",
       "  1.4722431864335455,\n",
       "  0.4781105976547098,\n",
       "  0.7614131598547532,\n",
       "  0.6964194138592059,\n",
       "  0.5946733251427746,\n",
       "  0.5272804674535411,\n",
       "  0.45126085985421294,\n",
       "  0.9917207777444721,\n",
       "  0.5841660722773961,\n",
       "  0.7029501325761942,\n",
       "  0.3160520350968949,\n",
       "  0.729725975966321,\n",
       "  0.6746866088800194,\n",
       "  0.45501322732096144,\n",
       "  0.8734169352933012,\n",
       "  0.6322602995758574,\n",
       "  0.5089477161534158,\n",
       "  0.6813204318558171,\n",
       "  0.21213203435596414,\n",
       "  0.19641855032959643,\n",
       "  1.0279767074749848,\n",
       "  0.896478019533202],\n",
       " 'r2': [-0.9122609673790774,\n",
       "  -1.106060606060606,\n",
       "  -0.6247723132969043,\n",
       "  -0.49868428118790553,\n",
       "  -1.67093023255814,\n",
       "  -0.5647026503492154,\n",
       "  0.293997603914959,\n",
       "  -0.9254400531384919,\n",
       "  -0.3178463602817845,\n",
       "  -0.8138614794056018,\n",
       "  0.29878217547744224,\n",
       "  -0.701657458563536,\n",
       "  -1.2984977734857024,\n",
       "  -1.0815418828762038,\n",
       "  -1.0243297373571854,\n",
       "  -1.8190655377861393,\n",
       "  -1.4221748400852872,\n",
       "  -1.5316769234697785,\n",
       "  -1.7081146548243842,\n",
       "  -0.47572048953809687,\n",
       "  -0.5907205240174671,\n",
       "  -0.8010622887493974,\n",
       "  -2.419563459983834,\n",
       "  -0.40186915887850505,\n",
       "  -1.0089285714285716,\n",
       "  -0.5485282519652988,\n",
       "  -0.3008948297492029]}"
      ]
     },
     "execution_count": 42,
     "metadata": {},
     "output_type": "execute_result"
    }
   ],
   "source": [
    "mae = []\n",
    "rmse = []\n",
    "r2 = []\n",
    "for user in df.id.unique():\n",
    "    X_user = X_test_user[X_test_user['id'] == user]['benchmark']\n",
    "    y_user = y_test_user[y_test_user['id'] == user]['mood']\n",
    "    mae.append(metrics.mean_absolute_error(X_user, y_user))\n",
    "    rmse.append(metrics.mean_squared_error(X_user, y_user, squared=False))\n",
    "    r2.append(metrics.r2_score(X_user, y_user))\n",
    "    \n",
    "scores_b = {'mae':mae, 'rmse':rmse, 'r2':r2}\n",
    "scores_b"
   ]
  },
  {
   "cell_type": "code",
   "execution_count": null,
   "id": "5dd5d239",
   "metadata": {},
   "outputs": [],
   "source": []
  },
  {
   "cell_type": "code",
   "execution_count": null,
   "id": "60317ae0",
   "metadata": {},
   "outputs": [],
   "source": []
  }
 ],
 "metadata": {
  "kernelspec": {
   "display_name": "Python 3 (ipykernel)",
   "language": "python",
   "name": "python3"
  },
  "language_info": {
   "codemirror_mode": {
    "name": "ipython",
    "version": 3
   },
   "file_extension": ".py",
   "mimetype": "text/x-python",
   "name": "python",
   "nbconvert_exporter": "python",
   "pygments_lexer": "ipython3",
   "version": "3.9.7"
  }
 },
 "nbformat": 4,
 "nbformat_minor": 5
}
